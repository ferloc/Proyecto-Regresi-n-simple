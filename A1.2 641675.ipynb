{
 "cells": [
  {
   "cell_type": "markdown",
   "id": "7aa9f5b6-0d78-4ad3-b813-25e4f9f0cff8",
   "metadata": {},
   "source": [
    "# ( A1.2 Regresión lineal simple)         \n",
    "                                                                                                       Fernando Ariel Lozano Castillo\n",
    "\n",
    "1. Primero veremos cuáles son los países más felices, así como los que tienen mayor \n",
    "GDP. Imprimiendo en consola un resumen de 10 filas de la base de datos, previamente \n",
    "ordenada de mayor a menor felicidad. Mediante el  uso de la función \n",
    "**`“sort_values()”`** y el parámetro **`“ascending”`** con valor **“False”** , esto debido a que si solo se pone **by** el orden sería  de menor a mayor, especificando como primer parámetro el nombre de la columna de interés. Luego guardándolo en la variable **\"Mafelicidad\"** y después imprimir el resumen."
   ]
  },
  {
   "cell_type": "code",
   "execution_count": 132,
   "id": "f33a9ed5-759a-4804-ba76-dc8c90b2f98a",
   "metadata": {},
   "outputs": [
    {
     "name": "stdout",
     "output_type": "stream",
     "text": [
      "Los 10 países más felices son :            Pais  Felicidad           GDP\n",
      "0      Finland     7.8210  2.718370e+11\n",
      "1      Denmark     7.6362  3.560850e+11\n",
      "2      Iceland     7.5575  2.171808e+10\n",
      "3  Switzerland     7.5116  7.522480e+11\n",
      "4  Netherlands     7.4149  9.138650e+11\n",
      "5   Luxembourg     7.4040  7.335313e+10\n",
      "6       Sweden     7.3843  5.414870e+11\n",
      "7       Norway     7.3651  3.621980e+11\n",
      "8       Israel     7.3638  4.071010e+11\n",
      "9  New Zealand     7.1998  2.117350e+11\n"
     ]
    }
   ],
   "source": [
    "import pandas as pd\n",
    "import matplotlib.pyplot as plt\n",
    "import numpy as np\n",
    "import scipy.stats as st\n",
    "import statsmodels.api as sm\n",
    "\n",
    "data = pd.read_csv(\"Felicidad y GDP.csv\")\n",
    "Mafelicidad = data.sort_values(by = \"Felicidad\", ascending = False)\n",
    "print(\"Los 10 países más felices son : \", Mafelicidad.head(10))"
   ]
  },
  {
   "cell_type": "markdown",
   "id": "6e703e0e-ebea-4b1b-a9c9-4784d74fa227",
   "metadata": {},
   "source": [
    "Ahora el mismo el proceso, pero ahora ordenando la base de datos de mayor a menor GDP. Y guardándolos en la variable MaGDP, para que se vea más legible el codigo."
   ]
  },
  {
   "cell_type": "code",
   "execution_count": 26,
   "id": "058d43c5-ffdb-42f6-b2e9-9ae643151bf4",
   "metadata": {},
   "outputs": [
    {
     "name": "stdout",
     "output_type": "stream",
     "text": [
      "Los 10 países con mayor GDP son :                 Pais  Felicidad           GDP\n",
      "15    United States     6.9768  2.089370e+13\n",
      "70            China     5.5853  1.468770e+13\n",
      "52            Japan     6.0389  5.040110e+12\n",
      "13          Germany     7.0341  3.846410e+12\n",
      "16   United Kingdom     6.9425  2.756900e+12\n",
      "130           India     3.7771  2.667690e+12\n",
      "19           France     6.6867  2.630320e+12\n",
      "29            Italy     6.4667  1.892570e+12\n",
      "14           Canada     7.0251  1.645420e+12\n",
      "57      South Korea     5.9351  1.637900e+12\n"
     ]
    }
   ],
   "source": [
    "MaGDP = data.sort_values(by = \"GDP\" , ascending = False)\n",
    "print(\"Los 10 países con mayor GDP son : \", MaGDP.head(10))"
   ]
  },
  {
   "cell_type": "markdown",
   "id": "f06ce91f-52a2-4b2e-826e-b8a45dffed9b",
   "metadata": {},
   "source": [
    "2. **Graficamos las observaciones**, definiendo el valor de **“y”** como el nivel de felicidad y el valor \n",
    "de **“x”** como el logaritmo base 10 del GDP.\n",
    "Típicamente, cuando trabajamos con números \n",
    "tan grandes como lo es el GDP, es mucho más común encontrar asociaciones con el \n",
    "logaritmo base 10 de la variable, que con la variable misma. Esto no es un problema, \n",
    "siempre y cuando nuestra conclusión incluya este recordatorio. Es decir, si descubrimos \n",
    "que sí existe una asociación, diríamos que: ***“encontramos una asociación \n",
    "estadísticamente significativa entre los niveles de felicidad y el logaritmo base 10 del \n",
    "GDP”.***\n",
    "\n",
    "\n",
    "Para esto usaremos la librería numpy que tiene la función “`log10()`” para transformar el GDP. \n",
    "Además usaremos **matplotlib inline** que  permite mostrar gráficos de Matplotlib directamente en las celdas del notebook, en lugar de abrirlos en una ventana externa.  "
   ]
  },
  {
   "cell_type": "code",
   "execution_count": 40,
   "id": "e8d42390-36b4-4f24-8302-e7784e052159",
   "metadata": {},
   "outputs": [],
   "source": [
    "%matplotlib inline"
   ]
  },
  {
   "cell_type": "markdown",
   "id": "5706ff48-1846-4c4e-abf3-5febf4fc3b3e",
   "metadata": {},
   "source": [
    "Ahora asignamos los variables de **X** y **Y**"
   ]
  },
  {
   "cell_type": "code",
   "execution_count": 47,
   "id": "f99e202a-d210-4182-a47b-811e3a4dade6",
   "metadata": {},
   "outputs": [],
   "source": [
    "X = np.log10(data.GDP)\n",
    "Y= data.Felicidad"
   ]
  },
  {
   "cell_type": "markdown",
   "id": "122b945b-3890-46e0-94aa-b7cfaa8f0bf6",
   "metadata": {},
   "source": [
    "Posteriormente, generaremos una gráfica de dispersión con la función `scatter()` de matplotlib.pyplot, por lo que también deberemos importar dicha librería. En esta ocasión, también nos interesa que los ejes estén etiquetados de forma clara. Lograremos esto con las funciones `ylabel()`y `xlabel()` de la misma librería. Finalmente, desplegaremos la gráfica en la consola con la función `show()`"
   ]
  },
  {
   "cell_type": "code",
   "execution_count": 54,
   "id": "a434a0bb-8172-4e25-bcd9-30f89c729f41",
   "metadata": {},
   "outputs": [
    {
     "data": {
      "image/png": "[encoded data removed]",
      "text/plain": [
       "<Figure size 640x480 with 1 Axes>"
      ]
     },
     "metadata": {},
     "output_type": "display_data"
    }
   ],
   "source": [
    "plt.scatter(X,Y , alpha = 0.5)\n",
    "\n",
    "plt.ylabel(\"Nivel de felicidad\")\n",
    "plt.xlabel(\"Log 10 del GDP\")\n",
    "plt.show()"
   ]
  },
  {
   "cell_type": "markdown",
   "id": "6ea7f105-2a46-44dd-89d1-c427e7ace68d",
   "metadata": {},
   "source": [
    "3. Ahora calculamos los valores óptimos de los dos coeficientes del modelo de regresión lineal simple.\n",
    "Para no terminar con una línea de código muy extensa, proclive a error humano, dividiremos la ecuación de $\\beta_1$ en dos partes: el numerador y el denominador. Ya que necesitamos utilizar el promedio tanto de `x` como de `y`, primero generaremos un par de variables de nombre `xBar` y `yBar` donde almacenaremos esa información. Para lograrlo, usaremos la función `mean` de pandas, por lo que primero importaremos dicha librería.\n",
    "\n",
    "Posteriormente calcularemos el numerador `B1num` y denominador `B1den` de $\\beta_1$ de forma independiente, recordando usar la función `sum` para obtener la sumatoria de los términos.Después definiremos una variable de nombre `B1` como la división de `B1num` entre `B1den`, y una variable de nombre `B0` de acuerdo a lo que indica la siguiente ecuación. Finalmente, imprimiremos el valor de cada coeficiente en la consola con dos llamadas a la función `print`.<br><br>"
   ]
  },
  {
   "cell_type": "markdown",
   "id": "312fffe5-deb1-4fe0-81c5-3ba19a8cc2de",
   "metadata": {},
   "source": [
    " <img src = 'Eclinea.png'>"
   ]
  },
  {
   "cell_type": "code",
   "execution_count": 66,
   "id": "4ce07b6c-20bf-4efa-b909-d796ab948f64",
   "metadata": {},
   "outputs": [
    {
     "name": "stdout",
     "output_type": "stream",
     "text": [
      "BO =  -1.3023500570747277\n",
      "B1 =  0.6281284658810408\n"
     ]
    }
   ],
   "source": [
    "# Calcula el promedio de x\n",
    "xBar=np.mean(X)\n",
    "\n",
    "# Calcula el promedio de y\n",
    "yBar=np.mean(Y)\n",
    "\n",
    "# Calcula el numerador de B1 apoyándote de la función sum\n",
    "B1num=sum((x-xBar)*(y-yBar))\n",
    "\n",
    "# Calcula el denominador de B1 apoyándote de la función sum\n",
    "B1den=sum((x-xBar)**2)\n",
    "\n",
    "# Calcula B1 como la proporción entre el numerador y el denominador\n",
    "B1 = B1num/ B1den\n",
    "# Calcula B0\n",
    "B0 =yBar - (B1*xBar)\n",
    "# Imprime el valor de B0\n",
    "print(\"BO = \",B0)\n",
    "# Imprime el valor de B1\n",
    "print(\"B1 = \",B1)"
   ]
  },
  {
   "cell_type": "markdown",
   "id": "ee5333fb-6e66-4863-a8f2-4423bedfb475",
   "metadata": {},
   "source": [
    "4. Ahora realizamos una nueva gráfica en la que se muestren tanto las observaciones, como la línea \n",
    "que representa el modelo de regresión lineal simple. Para esto haremos una nueva variable que denote el valor de Y que el modelo estima. La llamaremos `yHat`, y la calcularemos usando las variables `B0` y `B1`, recordando que nuestra ecuación lineal tiene la forma $y = \\beta_0 + \\beta_1 x$. Debajo de estas líneas de código usaremos la función `plot` para generar la línea, definiendo el parámetro de color `c` con valor `\"r\"`, el de ancho de línea `linewidth` con valor 3, y el de transparencia `alpha` con Con un valor de \n",
    "transparencia de 0.75, tanto para las observaciones como para la línea. Finalmente, usaremos la función `show` para mostrar la gráfica.<br><br>\n",
    " \n",
    " \n"
   ]
  },
  {
   "cell_type": "code",
   "execution_count": 73,
   "id": "c00e9362-4485-49bf-98cf-2fcff5c99c63",
   "metadata": {},
   "outputs": [
    {
     "data": {
      "image/png": "[encoded data removed]",
      "text/plain": [
       "<Figure size 640x480 with 1 Axes>"
      ]
     },
     "metadata": {},
     "output_type": "display_data"
    }
   ],
   "source": [
    "plt.scatter(X,Y , alpha = 0.5)\n",
    "\n",
    "plt.ylabel(\"Nivel de felicidad\")\n",
    "plt.xlabel(\"Log 10 del GDP\")\n",
    "yHat=B0 + B1*x\n",
    "# Agrega la línea que representa al modelo con la función plot\n",
    "plt.plot(x,yHat,c = \"r\", linewidth =3,alpha =0.5)\n",
    "# Muestra la gráfica usando la función show\n",
    "plt.show()"
   ]
  },
  {
   "cell_type": "markdown",
   "id": "7e5bd3aa-1b7f-4217-92d0-9158d697bfe7",
   "metadata": {},
   "source": [
    "5. Ahora calculamos el RSS del modelo y lo imprimimos. "
   ]
  },
  {
   "cell_type": "code",
   "execution_count": 76,
   "id": "7c2a3a75-3ad4-429d-8091-03e8a7876e47",
   "metadata": {},
   "outputs": [
    {
     "name": "stdout",
     "output_type": "stream",
     "text": [
      "RSS =  131.3738317732635\n"
     ]
    }
   ],
   "source": [
    "# Calcula el RSS haciendo uso de la función \"sum\" y el operador \"**\"\n",
    "RSS= sum((y-yHat)**2)\n",
    "# Imprime el valor de RSS\n",
    "print(\"RSS = \", RSS)"
   ]
  },
  {
   "cell_type": "markdown",
   "id": "2a19d90b-7228-4f60-8752-bb0f82873589",
   "metadata": {},
   "source": [
    "6. Ahora calculamos el error estándar e intervalo de confianza de  $\\beta_1$\n",
    "\n",
    "Primero, generamos la variable `n` donde se almacena la cantidad de observaciones en este estudio mediante la función `len`.Almacenando el resultado en una variable de nombre `SEB1`. La raíz cuadrada con la función `sqrt` de numpy. Por último, imprimiremos en consola el valor calculado del error estándar de $\\beta_1$ y su interpretación.\n"
   ]
  },
  {
   "cell_type": "code",
   "execution_count": 103,
   "id": "a4fc4c55-bf07-4ead-b4db-e73358e3a4e7",
   "metadata": {},
   "outputs": [
    {
     "name": "stdout",
     "output_type": "stream",
     "text": [
      "0.09983378435340727  es el valor del error estándar\n",
      "El coeficiente que estimamos está en promedio a  0.09983378435340727  unidades de distancia de su valor óptimo \n",
      " \n"
     ]
    }
   ],
   "source": [
    "# Almacena en una variable de nombre \"n\" la cantidad de observaciones\n",
    "n = len(x)\n",
    "\n",
    "\n",
    "# Calcula el error estándar de B1 apoyándode de la función \"sqrt\" de numpy\n",
    "SEB1 = np.sqrt(RSS / ((n-2)*sum((x-xBar)**2)))\n",
    "\n",
    "# Imprime el valor de SEB1\n",
    "print(SEB1, \" es el valor del error estándar\")\n",
    "print(\"El coeficiente que estimamos está en promedio a \", SEB1 ,\" unidades de distancia de su valor óptimo \")\n",
    "print(\" \")"
   ]
  },
  {
   "cell_type": "markdown",
   "id": "47f4340e-dc9c-4615-a467-25416d33caf1",
   "metadata": {},
   "source": [
    "Ahora  para el intervalo de confianza que nos puede dar una mejor respuesta sobre la relación directa entre la variable de entrada y de salida. Calcularemos el percentil 97.5 (o 2.5) de una distribución t de *Student* con $n - 2$ grados de libertad. \n",
    "\n",
    "La manera más sencilla de calcularlo es con la función `t.interval` de la librería scipy.stats, \n",
    "La función en cuestión tendrá como parámetros `alpha`, el nivel de confianza, con un valor de 0.95, y `df`, los grados de libertad, con un valor de $n-2$. Almacena el resultado en una variable de nombre `per`. Como resultado, dicha función entregará un arreglo con dos valores, el percentil 2.5 y el percentil 97.5. En este caso, nos quedaremos con el segundo, por lo que al final de la función agregaremos el término `[1]` que denota que seleccionaremos el segundo elemento del arreglo.\n",
    "\n",
    "Una vez calculado dicho valor, podemos obtener el intervalo de confianza a partir de la siguiente ecuación. Almacenamos el límite inferior en una variable de nombre `CIlow` y el límite superior en una variable de nombre `CIhigh`. Finalmente, imprimimos en consola el intervalo de confianza del 95%.<br><br>"
   ]
  },
  {
   "cell_type": "markdown",
   "id": "510791b3-0fc4-4f82-86d4-ab65c990a263",
   "metadata": {},
   "source": [
    "<img src = 'Ecuacion.png'>"
   ]
  },
  {
   "cell_type": "code",
   "execution_count": 109,
   "id": "0e6a8fca-2831-4ef4-8731-b46659e601ce",
   "metadata": {},
   "outputs": [
    {
     "name": "stdout",
     "output_type": "stream",
     "text": [
      "Intervalo de confianza : ( 0.4307393313073311 , 0.8255176004547504 )\n"
     ]
    }
   ],
   "source": [
    "# Calcula el percentil 97.5 con la función \"t.interval\"\n",
    "per = st.t.interval(confidence = 0.95, df = n-2)[1]   # Se necesitaba usar confidence en vez de alpha debido posiblemente a la version de scipy\n",
    "# Calcula el límite inferior\n",
    "Cllow = B1 - per*SEB1\n",
    "\n",
    "# Calcula el límite superios\n",
    "Clhigh = B1 + per*SEB1\n",
    "# Imprime el intervalo de confianza\n",
    "print(\"Intervalo de confianza : (\",Cllow,\",\",Clhigh,\")\")\n"
   ]
  },
  {
   "cell_type": "markdown",
   "id": "7c0c791f-f168-4584-b035-663935245439",
   "metadata": {},
   "source": [
    "Ahora para determina si la asociacion entre la felicidad y el GDP es significativa en esta población.\n",
    "\n",
    "Calcularemos el estadístico ***t*** y su ***p-value*** asociado. Almacenamos la información en una variable de nombre `t`. Para calcular el *p-value* asociado a dicho estadístico, usaremos la función `t.sf` de la librería scipy.stats . Dicha función tendrá como parámetros el valor absoluto de nuestro estadístico, `t`, y los grados de libertad, definidos como $n - 2$. El valor absoluto se puede calcular con la función `abs`. La función `t.sf` calcula la probabilidad ante una prueba de 1 sola cola; ya que nos interesa realizar una prueba de 2 colas (nos es igualmente relevante si el valor es muy bajo o muy alto), multiplicaremos por dos el resultado de la función. Finalmente, imprime en consola ambos resultados.<br><br>"
   ]
  },
  {
   "cell_type": "code",
   "execution_count": 118,
   "id": "dc83c55b-79b8-412b-95d8-6b10e882eadb",
   "metadata": {},
   "outputs": [
    {
     "name": "stdout",
     "output_type": "stream",
     "text": [
      "t-statistic = 6.291742519320846\n",
      "p-value = 3.825717831968765e-09\n"
     ]
    }
   ],
   "source": [
    "# Calcula el estadístico t\n",
    "t = B1 / SEB1\n",
    "# Calcula el p-value asociado\n",
    "p = st.t.sf(abs(t),n-2)*2\n",
    "# Muestra en consola el resultado del estadístico t\n",
    "print(\"t-statistic =\",t)\n",
    "# Muestra en consola el resultado del p-value\n",
    "print(\"p-value =\",p)"
   ]
  },
  {
   "cell_type": "markdown",
   "id": "8dfc65d4-223d-4f39-bb4f-f77f49ead5c1",
   "metadata": {},
   "source": [
    "Con esto, demostramos que bajo un estándar del 95% de probabilidad, podemos confirmar que sí existe una asociación entre entre la felicidad y el GDP. Esto, gracias a que el *p-value* asociado al estadístico *t* calculado es menor a **0.05**. "
   ]
  },
  {
   "cell_type": "markdown",
   "id": "3310f6c9-4efc-41bb-8cd3-20cbd2c15621",
   "metadata": {},
   "source": [
    "7. Calculamos ahora el residual standard error y la 𝑅2 del modelo calculando antes el *total sum of squares o TSS*."
   ]
  },
  {
   "cell_type": "code",
   "execution_count": 126,
   "id": "839f8b6b-7efc-425b-bf02-29b2e9a8ad8d",
   "metadata": {},
   "outputs": [
    {
     "name": "stdout",
     "output_type": "stream",
     "text": [
      "Residual standard error = 0.9721807858537376\n",
      "R^2=  0.22166361654970657\n"
     ]
    }
   ],
   "source": [
    "# Calcula el RSE\n",
    "RSE=np.sqrt(RSS/(n-2))\n",
    "# Calcula el TSS\n",
    "TSS=sum((y-yBar)**2)\n",
    "# Calcula el R^2\n",
    "R2=1-RSS/TSS\n",
    "# Imprime el valor del RSE\n",
    "print(\"Residual standard error =\",RSE)\n",
    "# Imprime el valor de R^2\n",
    "print(\"R^2= \",R2)"
   ]
  },
  {
   "cell_type": "markdown",
   "id": "9716f368-49d2-4ac3-9634-57be2b5fc718",
   "metadata": {},
   "source": [
    "Aunque el **R²** es bajo (solo del 22%), los valores de **t-statistic** y **p-value** sugieren que el modelo es estadísticamente significativo. En resumen, sí se puede decir que hay una asociación estadísticamente significativa entre los niveles de felicidad y el logaritmo base 10 del GDP."
   ]
  },
  {
   "cell_type": "markdown",
   "id": "93c406a1-2ba3-4f08-b14d-e9d402d427bb",
   "metadata": {},
   "source": [
    "8. Finalmente usamos la funcion `OLS( )` de la librería statsmodels.api para verificar que los resultados de todos los puntos anteriores son los esperados.\n",
    "Primero, almacenamos el resultado de dicha función en una variable de nombre `model`, usando como parámetros `y` y una versión modificada de `x`. Para esta función, incluimos el coeficiente $\\beta_0$ en el modelo,  como segundo parámetro el resultado de aplicar la función `add_constant()` (de la misma librería) a la variable `x`. Básicamente,estamos solicitando a la función que genera una ecuación para `y` que dependa tanto de `x` como de una constante.\n",
    "\n",
    "Posteriormente, usa la función `fit()` de esta misma librería, para ajustar el modelo a los datos especificados, almacenando el resultado en la variable `results`. Finalmente, imprime en pantalla el resultado de aplicar la función `summary()` a la variable `results`."
   ]
  },
  {
   "cell_type": "code",
   "execution_count": 135,
   "id": "39e1db60-5c6e-4519-be7b-681b3b640737",
   "metadata": {},
   "outputs": [
    {
     "name": "stdout",
     "output_type": "stream",
     "text": [
      "                            OLS Regression Results                            \n",
      "==============================================================================\n",
      "Dep. Variable:              Felicidad   R-squared:                       0.222\n",
      "Model:                            OLS   Adj. R-squared:                  0.216\n",
      "Method:                 Least Squares   F-statistic:                     39.59\n",
      "Date:                Sun, 26 Jan 2025   Prob (F-statistic):           3.83e-09\n",
      "Time:                        18:14:10   Log-Likelihood:                -195.09\n",
      "No. Observations:                 141   AIC:                             394.2\n",
      "Df Residuals:                     139   BIC:                             400.1\n",
      "Df Model:                           1                                         \n",
      "Covariance Type:            nonrobust                                         \n",
      "==============================================================================\n",
      "                 coef    std err          t      P>|t|      [0.025      0.975]\n",
      "------------------------------------------------------------------------------\n",
      "const         -1.3024      1.094     -1.191      0.236      -3.465       0.860\n",
      "GDP            0.6281      0.100      6.292      0.000       0.431       0.826\n",
      "==============================================================================\n",
      "Omnibus:                        2.648   Durbin-Watson:                   0.455\n",
      "Prob(Omnibus):                  0.266   Jarque-Bera (JB):                2.523\n",
      "Skew:                          -0.326   Prob(JB):                        0.283\n",
      "Kurtosis:                       2.944   Cond. No.                         148.\n",
      "==============================================================================\n",
      "\n",
      "Notes:\n",
      "[1] Standard Errors assume that the covariance matrix of the errors is correctly specified.\n"
     ]
    }
   ],
   "source": [
    "# Genera un ordinary least squares, recuerda usar la función add_constant()\n",
    "model= sm.OLS(y,sm.add_constant(x))\n",
    "# Ajusta el modelo\n",
    "results = model.fit()\n",
    "# Imprime el resultado de aplicar la función summary() a la variable results\n",
    "print(results.summary())"
   ]
  },
  {
   "cell_type": "code",
   "execution_count": 137,
   "id": "832c836d-299b-4e6f-8108-b8602c6560b2",
   "metadata": {},
   "outputs": [
    {
     "name": "stdout",
     "output_type": "stream",
     "text": [
      "P-values:  const    2.357975e-01\n",
      "GDP      3.825718e-09\n",
      "dtype: float64\n",
      "RSE:  0.9721807858537376\n"
     ]
    }
   ],
   "source": [
    "# Si el p-value es muy pequeño (0.000), puedes observar más cifras significativas con:\n",
    "print(\"P-values: \", results.pvalues)\n",
    "\n",
    "# Para revisar el RSE (error estándar de la regresión)\n",
    "print(\"RSE: \", results.scale**0.5)"
   ]
  },
  {
   "cell_type": "markdown",
   "id": "f3be74ba-60f2-4ca5-92d0-32165d9f97ae",
   "metadata": {},
   "source": [
    "\n",
    "La relación entre el logaritmo del GDP y los niveles de felicidad sigue siendo estadísticamente significativa a pesar de un R² bajo, ya que el p-value de la variable independiente (GDP) es muy pequeño.\n",
    "El intercepto tiene un p-value más alto, lo que indica que la constante en el modelo no tiene un impacto significativo.\n",
    "El RSE de 0.972 es un buen valor, lo que sugiere que el modelo no tiene un error demasiado grande en sus predicciones."
   ]
  },
  {
   "cell_type": "markdown",
   "id": "10bacf31-62e4-4a30-b414-8ec4647ae432",
   "metadata": {},
   "source": [
    "**Firma de Honor:** *Doy mi palabra que he realizado esta actividad con integridad académica.*"
   ]
  }
 ],
 "metadata": {
  "kernelspec": {
   "display_name": "Python [conda env:base] *",
   "language": "python",
   "name": "conda-base-py"
  },
  "language_info": {
   "codemirror_mode": {
    "name": "ipython",
    "version": 3
   },
   "file_extension": ".py",
   "mimetype": "text/x-python",
   "name": "python",
   "nbconvert_exporter": "python",
   "pygments_lexer": "ipython3",
   "version": "3.12.7"
  }
 },
 "nbformat": 4,
 "nbformat_minor": 5
}
